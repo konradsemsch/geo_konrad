{
 "cells": [
  {
   "cell_type": "code",
   "execution_count": 1,
   "metadata": {},
   "outputs": [],
   "source": [
    "from geo_konrad import Locate\n",
    "from geo_konrad import locate_coordinates"
   ]
  },
  {
   "cell_type": "code",
   "execution_count": 2,
   "metadata": {},
   "outputs": [
    {
     "name": "stdout",
     "output_type": "stream",
     "text": [
      "Location details were found:  Langes Luch, Schwarzer Weg, Schmöckwitz, Treptow-Köpenick, Schmöckwitzwerder, Berlin, 12527, Deutschland\n"
     ]
    },
    {
     "data": {
      "text/plain": [
       "Location(Langes Luch, Schwarzer Weg, Schmöckwitz, Treptow-Köpenick, Schmöckwitzwerder, Berlin, 12527, Deutschland, (52.37393725, 13.6661016687572, 0.0))"
      ]
     },
     "execution_count": 2,
     "metadata": {},
     "output_type": "execute_result"
    }
   ],
   "source": [
    "locate_coordinates(52.375, 13.667)"
   ]
  },
  {
   "cell_type": "code",
   "execution_count": null,
   "metadata": {},
   "outputs": [],
   "source": []
  }
 ],
 "metadata": {
  "kernelspec": {
   "display_name": "geo_konrad",
   "language": "python",
   "name": "geo_konrad"
  },
  "language_info": {
   "codemirror_mode": {
    "name": "ipython",
    "version": 3
   },
   "file_extension": ".py",
   "mimetype": "text/x-python",
   "name": "python",
   "nbconvert_exporter": "python",
   "pygments_lexer": "ipython3",
   "version": "3.7.4"
  }
 },
 "nbformat": 4,
 "nbformat_minor": 4
}
